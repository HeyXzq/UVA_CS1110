{
 "cells": [
  {
   "cell_type": "markdown",
   "id": "060ade79",
   "metadata": {},
   "source": [
    "In Python, anything following the character # to the end of the line is treated as a comment and ignored."
   ]
  },
  {
   "cell_type": "code",
   "execution_count": 45,
   "id": "be2ead29",
   "metadata": {
    "ExecuteTime": {
     "end_time": "2024-01-25T18:26:10.128966Z",
     "start_time": "2024-01-25T18:26:10.118909Z"
    }
   },
   "outputs": [],
   "source": [
    "# Nothing should happen when we execute this cell.\n",
    "# These are just comments"
   ]
  },
  {
   "cell_type": "code",
   "execution_count": 46,
   "id": "d9160763",
   "metadata": {
    "ExecuteTime": {
     "end_time": "2024-01-25T18:26:10.140306Z",
     "start_time": "2024-01-25T18:26:10.124545Z"
    }
   },
   "outputs": [
    {
     "name": "stdout",
     "output_type": "stream",
     "text": [
      "Hello World!\n"
     ]
    }
   ],
   "source": [
    "print('Hello World!') # a customary first code in programming"
   ]
  },
  {
   "cell_type": "code",
   "execution_count": 47,
   "id": "ea37479b",
   "metadata": {
    "ExecuteTime": {
     "end_time": "2024-01-25T18:26:10.142587Z",
     "start_time": "2024-01-25T18:26:10.132950Z"
    }
   },
   "outputs": [
    {
     "name": "stdout",
     "output_type": "stream",
     "text": [
      "57\n"
     ]
    }
   ],
   "source": [
    "a = '5'\n",
    "b = '7'\n",
    "c = a+b\n",
    "\n",
    "print(c) #print function call"
   ]
  },
  {
   "cell_type": "markdown",
   "id": "aa498253",
   "metadata": {},
   "source": [
    "We can change the value of a variable as we wish.\n",
    "\n"
   ]
  },
  {
   "cell_type": "code",
   "execution_count": 48,
   "id": "9a980d3b",
   "metadata": {
    "ExecuteTime": {
     "end_time": "2024-01-25T18:26:10.186684Z",
     "start_time": "2024-01-25T18:26:10.139824Z"
    }
   },
   "outputs": [
    {
     "name": "stdout",
     "output_type": "stream",
     "text": [
      "x is 9.21\n",
      "Now x is Nice to meet you!\n"
     ]
    }
   ],
   "source": [
    "x = 9.21\n",
    "print('x is', x)\n",
    "x = 'Nice to meet you!'\n",
    "print('Now x is', x)"
   ]
  },
  {
   "cell_type": "code",
   "execution_count": 49,
   "id": "4708bd85",
   "metadata": {
    "ExecuteTime": {
     "end_time": "2024-01-25T18:26:10.187566Z",
     "start_time": "2024-01-25T18:26:10.146994Z"
    }
   },
   "outputs": [
    {
     "name": "stdout",
     "output_type": "stream",
     "text": [
      "apple\n",
      "<class 'str'>\n"
     ]
    }
   ],
   "source": [
    "a = 'apple'\n",
    "\n",
    "print(a)\n",
    "\n",
    "a_1 = type(a)\n",
    "\n",
    "print(a_1)"
   ]
  },
  {
   "cell_type": "code",
   "execution_count": 50,
   "id": "9ae1514a",
   "metadata": {
    "ExecuteTime": {
     "end_time": "2024-01-25T18:26:10.208031Z",
     "start_time": "2024-01-25T18:26:10.183032Z"
    }
   },
   "outputs": [
    {
     "name": "stdout",
     "output_type": "stream",
     "text": [
      "100\n",
      "<class 'int'>\n"
     ]
    }
   ],
   "source": [
    "b = 100\n",
    "\n",
    "print(b)\n",
    "\n",
    "print(type(b))"
   ]
  },
  {
   "cell_type": "code",
   "execution_count": 51,
   "id": "2b19b18a",
   "metadata": {
    "ExecuteTime": {
     "end_time": "2024-01-25T18:26:10.218763Z",
     "start_time": "2024-01-25T18:26:10.211717Z"
    }
   },
   "outputs": [
    {
     "name": "stdout",
     "output_type": "stream",
     "text": [
      "4.56\n",
      "<class 'float'>\n"
     ]
    }
   ],
   "source": [
    "c = 4.56\n",
    "\n",
    "print(c)\n",
    "\n",
    "print(type(c))"
   ]
  },
  {
   "cell_type": "code",
   "execution_count": 52,
   "id": "098f08d1",
   "metadata": {
    "ExecuteTime": {
     "end_time": "2024-01-25T18:26:10.219943Z",
     "start_time": "2024-01-25T18:26:10.215826Z"
    }
   },
   "outputs": [
    {
     "name": "stdout",
     "output_type": "stream",
     "text": [
      "<class 'bool'>\n"
     ]
    }
   ],
   "source": [
    "d = True\n",
    "\n",
    "print(type(d))"
   ]
  },
  {
   "cell_type": "code",
   "execution_count": 53,
   "id": "71159596",
   "metadata": {
    "ExecuteTime": {
     "end_time": "2024-01-25T18:26:10.227868Z",
     "start_time": "2024-01-25T18:26:10.222191Z"
    }
   },
   "outputs": [
    {
     "name": "stdout",
     "output_type": "stream",
     "text": [
      "False\n",
      "<class 'bool'>\n"
     ]
    }
   ],
   "source": [
    "e = ('cat'=='dog')\n",
    "\n",
    "print(e)\n",
    "\n",
    "print(type(e))"
   ]
  },
  {
   "cell_type": "markdown",
   "id": "d36dfed1",
   "metadata": {},
   "source": [
    "You can either delimit a string with single quotes or double quotes, but you can't use different types of quotes to delimit a character string.\n",
    "\n",
    "\n",
    "Python will let you know if you fail to correctly delimit a string as soon as it recognizes your mistake. In the following example it has to go to the end of the line before it can be sure the string is not \"foo''\".\n",
    "\n",
    "\n"
   ]
  },
  {
   "cell_type": "code",
   "execution_count": 54,
   "id": "5d62403d",
   "metadata": {
    "ExecuteTime": {
     "end_time": "2024-01-25T18:26:10.229527Z",
     "start_time": "2024-01-25T18:26:10.227078Z"
    }
   },
   "outputs": [],
   "source": [
    "# This will produce an error.  \n",
    "# \"EOL\" stands for \"end of line\".\n",
    "\n",
    "z_0_0 = \"zoo\""
   ]
  },
  {
   "cell_type": "code",
   "execution_count": 55,
   "id": "a5cd1c50",
   "metadata": {
    "ExecuteTime": {
     "end_time": "2024-01-25T18:26:10.254896Z",
     "start_time": "2024-01-25T18:26:10.231115Z"
    }
   },
   "outputs": [
    {
     "name": "stdout",
     "output_type": "stream",
     "text": [
      "With a last gasp he said, \"It was the squirrels!\"\n"
     ]
    }
   ],
   "source": [
    "#An example of printing strings\n",
    "\n",
    "z = 'With a last gasp he said, \"It was the squirrels!\"'\n",
    "\n",
    "print(z)"
   ]
  },
  {
   "cell_type": "code",
   "execution_count": 56,
   "id": "be1aa9b5",
   "metadata": {
    "ExecuteTime": {
     "end_time": "2024-01-25T18:26:10.255455Z",
     "start_time": "2024-01-25T18:26:10.235850Z"
    }
   },
   "outputs": [
    {
     "name": "stdout",
     "output_type": "stream",
     "text": [
      "roses apples\n"
     ]
    }
   ],
   "source": [
    "#Printing 2 or more strings with a comma (,)\n",
    "\n",
    "print('roses','apples')"
   ]
  },
  {
   "cell_type": "markdown",
   "id": "d5d7db97",
   "metadata": {},
   "source": [
    "# Combining strings (concatenation) <a id=\"concatenation\"></a>\n",
    "\n",
    "We can combine strings using the **+** operator.\n",
    "\n",
    "The term typically used in CS for combining strings is **concatenation**"
   ]
  },
  {
   "cell_type": "code",
   "execution_count": 57,
   "id": "5644d1f1",
   "metadata": {
    "ExecuteTime": {
     "end_time": "2024-01-25T18:26:10.255769Z",
     "start_time": "2024-01-25T18:26:10.239048Z"
    }
   },
   "outputs": [
    {
     "name": "stdout",
     "output_type": "stream",
     "text": [
      "rosesapples\n"
     ]
    }
   ],
   "source": [
    "#Printing 2 or more strings with string concatenation (+)\n",
    "\n",
    "print('roses'+'apples')"
   ]
  },
  {
   "cell_type": "code",
   "execution_count": 58,
   "id": "2cfb8781",
   "metadata": {
    "ExecuteTime": {
     "end_time": "2024-01-25T18:26:10.256144Z",
     "start_time": "2024-01-25T18:26:10.243298Z"
    }
   },
   "outputs": [
    {
     "name": "stdout",
     "output_type": "stream",
     "text": [
      "I only have $ 10 left\n"
     ]
    }
   ],
   "source": [
    "\n",
    "\n",
    "start = 20 # assigning a value which is an int (integer) to variable start\n",
    "spent = 10 # assigning a value which is an int (integer) to variable spent\n",
    "a = start-spent\n",
    "\n",
    "print('I only have $',a,'left')\n"
   ]
  },
  {
   "cell_type": "code",
   "execution_count": 59,
   "id": "479188bb",
   "metadata": {
    "ExecuteTime": {
     "end_time": "2024-01-25T18:26:10.256439Z",
     "start_time": "2024-01-25T18:26:10.246094Z"
    }
   },
   "outputs": [
    {
     "name": "stdout",
     "output_type": "stream",
     "text": [
      "I only have $10\n"
     ]
    }
   ],
   "source": [
    "# to eliminate the space between the $ and 10 we will use +\n",
    "\n",
    "# but first we have to cast it str(), as we cannot add numbers and statements together\n",
    "\n",
    "print('I only have $'+str(a)) # str(a) stores 10 as a string() i.e. '10' "
   ]
  }
 ],
 "metadata": {
  "kernelspec": {
   "display_name": "Python 3 (ipykernel)",
   "language": "python",
   "name": "python3"
  },
  "language_info": {
   "codemirror_mode": {
    "name": "ipython",
    "version": 3
   },
   "file_extension": ".py",
   "mimetype": "text/x-python",
   "name": "python",
   "nbconvert_exporter": "python",
   "pygments_lexer": "ipython3",
   "version": "3.11.3"
  }
 },
 "nbformat": 4,
 "nbformat_minor": 5
}
