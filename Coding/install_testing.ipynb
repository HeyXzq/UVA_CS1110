{
 "cells": [
  {
   "cell_type": "markdown",
   "id": "6d720b69",
   "metadata": {
    "deletable": false,
    "editable": false
   },
   "source": [
    "Make a variable `a` with value `\"hello\"`"
   ]
  },
  {
   "cell_type": "code",
   "execution_count": 1,
   "id": "25cc501e",
   "metadata": {
    "tags": [],
    "ExecuteTime": {
     "end_time": "2024-01-25T18:23:08.505321Z",
     "start_time": "2024-01-25T18:23:08.501019Z"
    }
   },
   "outputs": [],
   "source": [
    "a = \"hello\""
   ]
  },
  {
   "cell_type": "code",
   "execution_count": 2,
   "id": "7f3dc465",
   "metadata": {
    "deletable": false,
    "editable": false,
    "ExecuteTime": {
     "end_time": "2024-01-25T18:23:08.513577Z",
     "start_time": "2024-01-25T18:23:08.505324Z"
    }
   },
   "outputs": [
    {
     "name": "stdout",
     "output_type": "stream",
     "text": [
      "hello\n"
     ]
    }
   ],
   "source": [
    "print(a)"
   ]
  },
  {
   "cell_type": "markdown",
   "id": "1a3e0552",
   "metadata": {},
   "source": [
    "### web reading test"
   ]
  },
  {
   "cell_type": "code",
   "execution_count": 3,
   "id": "56dabfe3",
   "metadata": {
    "ExecuteTime": {
     "end_time": "2024-01-25T18:23:10.834846Z",
     "start_time": "2024-01-25T18:23:08.511843Z"
    }
   },
   "outputs": [
    {
     "name": "stdout",
     "output_type": "stream",
     "text": [
      "name,id,nametype,recclass\n"
     ]
    }
   ],
   "source": [
    "import urllib\n",
    "f = urllib.request.urlopen('https://data.nasa.gov/api/views/gh4g-9sfh/rows.csv')\n",
    "text = f.read().decode('utf-8')\n",
    "f.close()\n",
    "print(text[:25])"
   ]
  },
  {
   "cell_type": "code",
   "execution_count": 3,
   "outputs": [],
   "source": [],
   "metadata": {
    "collapsed": false,
    "ExecuteTime": {
     "end_time": "2024-01-25T18:23:10.840530Z",
     "start_time": "2024-01-25T18:23:10.835400Z"
    }
   },
   "id": "93c8f39d712dfd3b"
  }
 ],
 "metadata": {
  "kernelspec": {
   "display_name": "Python 3 (ipykernel)",
   "language": "python",
   "name": "python3"
  },
  "language_info": {
   "codemirror_mode": {
    "name": "ipython",
    "version": 3
   },
   "file_extension": ".py",
   "mimetype": "text/x-python",
   "name": "python",
   "nbconvert_exporter": "python",
   "pygments_lexer": "ipython3",
   "version": "3.11.4"
  },
  "otter": {
   "OK_FORMAT": true,
   "tests": {
    "q1": {
     "name": "q1",
     "points": null,
     "suites": [
      {
       "cases": [
        {
         "code": ">>> assert a == \"hello\"\n",
         "hidden": false,
         "locked": false
        }
       ],
       "scored": true,
       "setup": "",
       "teardown": "",
       "type": "doctest"
      }
     ]
    }
   }
  }
 },
 "nbformat": 4,
 "nbformat_minor": 5
}
